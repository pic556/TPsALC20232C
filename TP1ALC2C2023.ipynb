{
 "cells": [
  {
   "cell_type": "markdown",
   "id": "98990b3f",
   "metadata": {},
   "source": [
    "Pedro Joel Burgos . LU 804/18<br>\n",
    "Martin"
   ]
  },
  {
   "cell_type": "markdown",
   "id": "cc290898",
   "metadata": {},
   "source": [
    "Ejercicio 1"
   ]
  },
  {
   "cell_type": "code",
   "execution_count": 1,
   "id": "8b326d3c",
   "metadata": {},
   "outputs": [
    {
     "name": "stdout",
     "output_type": "stream",
     "text": [
      "Matriz L:\n",
      "[[ 1.     0.     0.   ]\n",
      " [ 3.     1.     0.   ]\n",
      " [-2.    -0.625  1.   ]]\n",
      "Matriz U:\n",
      "[[  2.   -3.    5. ]\n",
      " [  0.    8.  -12. ]\n",
      " [  0.    0.    0.5]]\n",
      "\n",
      "\n",
      "Error: Hubo un 0 en la diagonal (El pivote es 0 y no existe factorizacion LU)\n",
      "Matriz L:\n",
      "[[1. 0. 0.]\n",
      " [0. 1. 0.]\n",
      " [0. 0. 1.]]\n",
      "Matriz U:\n",
      "[[1 1 1]\n",
      " [1 1 2]\n",
      " [1 3 5]]\n"
     ]
    }
   ],
   "source": [
    "import numpy as np\n",
    "\n",
    "def descompLU(A):\n",
    "    n = A.shape[0] # n = cantidad de filas, coincide con el orden de la matriz\n",
    "    L = np.eye(n)  # Creamos la matriz del mismo tamaño de A pero la matriz identidad\n",
    "    U = A.astype(float)  # La matriz U comienza siendo una copia de A\n",
    "    #aclaramos que toma valores con punto para cuando pase la division no alla problemas\n",
    "\n",
    "    for j in range(n):                               # Recorremos las columnas\n",
    "        if U[j, j] != 0:                             # Si el pivote es distinto de 0\n",
    "            for i in range(j+1, n):                  # Convertimos en ceros los elementos bajo el pivote\n",
    "                L[i, j] = U[i, j]/U[j, j]            # Escribimos el coeficiente (elemento / pivote) que se utiliza en Gauss en la matriz L       \n",
    "                U[i, :] = U[i, :] - L[i, j]*U[j, :]  # Convertimos ese elemento en 0 en la matriz U\n",
    "        else:\n",
    "            print('Error: Hubo un 0 en la diagonal (El pivote es 0 y no existe factorizacion LU)')\n",
    "            return np.eye(n), A                      # Si el pivote es 0, se devuelve la identidad y la matriz A\n",
    "\n",
    "    return L, U\n",
    "\n",
    "Matriz_eje1 = np.array([[2, -3, 5], [6, -1, 3], [-4, 1, -2]])\n",
    "L, U = descompLU(Matriz_eje1)\n",
    "print(\"Matriz L:\")\n",
    "print(L)\n",
    "print(\"Matriz U:\" )\n",
    "print(U)\n",
    "print(\"\\n\")\n",
    "\n",
    "Matriz_eje2 = np.array([[1,1,1],[1,1,2],[1,3,5]])\n",
    "L, U = descompLU(Matriz_eje2)\n",
    "print(\"Matriz L:\")\n",
    "print(L)\n",
    "print(\"Matriz U:\")\n",
    "print(U)\n"
   ]
  },
  {
   "cell_type": "markdown",
   "id": "4c32d920",
   "metadata": {},
   "source": [
    "Ejercicio 3"
   ]
  },
  {
   "cell_type": "code",
   "execution_count": 2,
   "id": "e81f566f",
   "metadata": {},
   "outputs": [
    {
     "data": {
      "text/plain": [
       "array([1., 0., 2.])"
      ]
     },
     "execution_count": 2,
     "metadata": {},
     "output_type": "execute_result"
    }
   ],
   "source": [
    "from scipy.linalg import solve_triangular \n",
    "\n",
    "# Importamos la funcion solve_triangular, que dada una matriz triangular A y un vector b , nos resuelve el sistema Ax=b\n",
    "\n",
    "def resolverLU(A, b):\n",
    "    L, U = descompLU(A) # Reutilizamos la funcion del punto anterior\n",
    "    y = solve_triangular(L, b, lower=True) # El vector 'y' tiene la solucion del sistema Ly=b . lower=True significa que la matriz es triangular inferior.\n",
    "    x = solve_triangular(U, y, lower=False) # El vector 'x' tiene la solucion que buscamos (de Ax=b). lower=False significa que la matriz es triangular inferior.\n",
    "    return x \n",
    "\n",
    "Matriz_eje3 = np.array([[1,2,1],[2,5,1],[-1,1,2]])\n",
    "Matriz_b = np.array([3,4,3])\n",
    "\n",
    "resolverLU(Matriz_eje3,Matriz_b)"
   ]
  },
  {
   "cell_type": "markdown",
   "id": "9a48c1e6",
   "metadata": {},
   "source": [
    "Ejercicio 4"
   ]
  },
  {
   "cell_type": "code",
   "execution_count": 3,
   "id": "3c686630",
   "metadata": {},
   "outputs": [
    {
     "name": "stdout",
     "output_type": "stream",
     "text": [
      "La matriz aleatoria es: [[-0.21197631 -0.73729234 -0.04565497  0.55989095  0.74072979 -0.48659368\n",
      "   0.60847281 -0.04883424 -0.07700371  0.74241254]\n",
      " [-0.96584077  0.65309714 -0.39492558  0.02593583  0.01323682  0.33496098\n",
      "  -0.05741951 -0.19950901 -0.00769464  0.891558  ]\n",
      " [-0.03577586  0.56160714  0.91559051  0.89364779 -0.26086859 -0.71973188\n",
      "  -0.84886121 -0.84555377  0.58502547  0.93532092]\n",
      " [-0.34819454  0.38296454  0.48405029 -0.11959237 -0.82696498 -0.79631955\n",
      "  -0.26780639 -0.62067188  0.68597938  0.36324425]\n",
      " [-0.79085806 -0.50867725 -0.73757936  0.75635556 -0.69346507  0.73983702\n",
      "  -0.54883643  0.22761037 -0.85564299 -0.8243069 ]\n",
      " [-0.77286572 -0.2588371   0.33110074  0.19433553 -0.20777261  0.1019929\n",
      "   0.11621238  0.20388643 -0.2877565   0.64161378]\n",
      " [-0.87917943 -0.30379037 -0.1093627   0.10055378 -0.27220272 -0.86110129\n",
      "  -0.45375928  0.98758957 -0.54112487  0.93154707]\n",
      " [-0.10062221 -0.7659364  -0.56565051 -0.84308314  0.48347564  0.90681069\n",
      "   0.20689685  0.35340001  0.48282802  0.84659689]\n",
      " [ 0.69814616  0.90089387  0.4194131   0.38112998 -0.45155238  0.82330727\n",
      "  -0.03897398  0.45012876  0.56180939  0.50595799]\n",
      " [-0.71544848 -0.37516383 -0.55644416 -0.06764037 -0.02465526  0.71230321\n",
      "   0.75236447  0.93677829  0.78939537  0.93348505]]\n",
      "El vector aleatorio es: [-0.29005696  0.6953592   0.54731651 -0.28020922 -0.82082079 -0.45746108\n",
      "  0.39859456  0.34847564 -0.75711115 -0.49931593]\n",
      "El error relativo es: 7.915009671000253e-16\n"
     ]
    }
   ],
   "source": [
    "from scipy.linalg import lu_factor, solve_triangular\n",
    "\n",
    "# Creamos la matriz aleatoria A y el vector aleatorio b\n",
    "# por defecto, la función np.random.rand nos devuelve numeros aleatorios en el intervalo [0,1)\n",
    "# pero nosotros queremos que esten en el intervalo [-1,1). Entonces ampliamos ese intervalo multiplicandolo por 2\n",
    "# (pasamos a tener valores en el intervalo [0,2) ) y despues desplazamos todo el intervalo hacia la izquierda restando 1\n",
    "# (pasamos a tener valores en el intervalo [-1,1) como buscabamos\n",
    "\n",
    "A = np.random.rand(10, 10) * 2 - 1\n",
    "b = np.random.rand(10) * 2 - 1\n",
    "\n",
    "# Resolvemos el sistema con la función del ejercicio anterior. \n",
    "# En lugar de usar ˜x , llamamos 'z' al vector solucion que nos devuelve la función\n",
    "\n",
    "z = resolverLU(A, b)\n",
    "\n",
    "# Ahora calculamos el error relativo. Calculamos la norma 2 de b' = Az , menos la norma 2 de b, y dividimos por la norma 2 de b\n",
    "# Cuando no le especificamos a la fucion linalg.norm que norma queremos, por defecto calcula la norma 2\n",
    "\n",
    "e = np.linalg.norm(np.dot(A, z) - b) / np.linalg.norm(b)\n",
    "\n",
    "\n",
    "print(\"La matriz aleatoria es:\", A)\n",
    "print(\"El vector aleatorio es:\", b)\n",
    "print(\"El error relativo es:\", e)"
   ]
  },
  {
   "cell_type": "markdown",
   "id": "5a1c4510",
   "metadata": {},
   "source": [
    "Conclusión: Tras probar el código varias veces, el error relativo nos dió mayormente valores entre 1 y 200. consideramos que este error es notable aunque va a depender del objetivo de uso que le demos a esta resolución del sistema. Seguramente la matriz se encuentra mal condicionada, es decir, que pequeñas perturbaciones en b, pueden generar grandes cambios en la solución, y también otro factor que pensamos que contribuye, es el orden de la matriz A y del vector b que al ser de un tamaño considerable, aumenta el error relativo.\n",
    "\n"
   ]
  },
  {
   "cell_type": "markdown",
   "id": "6cfc5848",
   "metadata": {},
   "source": [
    "Ejercicio 5"
   ]
  },
  {
   "cell_type": "code",
   "execution_count": 4,
   "id": "5154103d",
   "metadata": {},
   "outputs": [],
   "source": [
    "from scipy.linalg import solve_triangular\n",
    "\n",
    "def inversa(A):\n",
    "    \n",
    "    n = A.shape[0]\n",
    "    # n es el orden que tiene la matriz\n",
    "    \n",
    "    # Obtenemos la descomposición LU de la matriz A\n",
    "    L, U = descompLU(A)\n",
    "    \n",
    "    # Creamos la matriz identidad de tamaño n x n\n",
    "    I = np.eye(n)\n",
    "    \n",
    "    # Creamos una matriz para almacenar las soluciones de los sistemas \n",
    "    #Ly = v y Ux = y\n",
    "    \n",
    "    invA = np.zeros((n, n))\n",
    "    \n",
    "    # Para cada columna de la matriz identidad, resolvemos los sistemas Ly = v y Ux = y\n",
    "    for i in range(n):\n",
    "        v = I[:, i]\n",
    "        y = solve_triangular(L, v, lower=True)\n",
    "        x = solve_triangular(U, y, lower=False)\n",
    "        invA[:, i] = x             \n",
    "    # La columna i de la matriz invA va a cargarse con la solucion x\n",
    "    \n",
    "    return invA # Por último devolvemos la inversa de la matriz A"
   ]
  },
  {
   "cell_type": "markdown",
   "id": "1199ecc3",
   "metadata": {},
   "source": [
    "Ejercicio 6"
   ]
  },
  {
   "cell_type": "code",
   "execution_count": 5,
   "id": "20bb941b",
   "metadata": {},
   "outputs": [
    {
     "name": "stdout",
     "output_type": "stream",
     "text": [
      "La matriz A es: [[ 1.00000000e+00  4.95047199e-14  7.72864178e-14 -3.82131060e-15\n",
      "   1.07134774e-15  7.93516876e-14 -1.12848798e-13 -8.47062381e-14\n",
      "  -6.18578783e-14 -6.31841671e-14]\n",
      " [-7.48176831e-16  1.00000000e+00 -1.62340529e-14  1.61974679e-15\n",
      "   4.71884850e-15 -1.41967033e-14  6.84280083e-14  2.30426261e-14\n",
      "  -4.38150172e-15  2.81543891e-14]\n",
      " [ 1.05817412e-15 -3.19737621e-15  1.00000000e+00 -8.58108789e-15\n",
      "   1.30721352e-14  9.14215888e-15  1.20905677e-14  9.68691592e-15\n",
      "  -2.55576705e-14  2.52304067e-16]\n",
      " [ 1.95309364e-15  1.85970832e-14 -8.35333238e-15  1.00000000e+00\n",
      "  -1.59713435e-14 -6.46705467e-15  1.43161539e-14 -1.02456497e-14\n",
      "   1.94998916e-14  7.66180699e-15]\n",
      " [-1.54794607e-14 -2.31029020e-14 -4.28055326e-15  2.57762622e-14\n",
      "   1.00000000e+00 -1.05866961e-14 -1.39517456e-14 -2.40147905e-15\n",
      "   2.13746664e-14  1.35661012e-14]\n",
      " [-5.42469113e-16  1.02327380e-14 -1.56190865e-14  1.25522713e-14\n",
      "  -1.89624750e-14  1.00000000e+00 -1.28079718e-14 -1.75914631e-14\n",
      "   3.76556760e-14  1.68097688e-15]\n",
      " [ 3.79529244e-15  7.78658863e-15 -7.27385435e-15 -6.16768149e-16\n",
      "  -1.98326492e-15 -3.73851024e-16  1.00000000e+00  1.02720195e-14\n",
      "  -3.35558597e-15  1.32946334e-14]\n",
      " [ 8.13982374e-15  1.87110822e-14 -1.86549650e-14  9.15141508e-17\n",
      "  -7.63739914e-15 -1.68997669e-15  5.69891597e-14  1.00000000e+00\n",
      "   4.88251476e-15  1.89949401e-14]\n",
      " [-1.27661950e-15 -4.58597437e-15  2.75098805e-15  1.50755297e-15\n",
      "   1.95169681e-15  1.98916506e-15 -1.51047329e-14 -2.71329847e-15\n",
      "   1.00000000e+00 -4.06267836e-15]\n",
      " [-9.59554267e-15 -2.05716945e-14  1.74838042e-14  3.01628581e-15\n",
      "   8.33865323e-15  4.53150244e-15 -6.36004653e-14 -7.50399257e-15\n",
      "  -5.10576295e-15  1.00000000e+00]]\n",
      "error en norma Frobenius es: 2.6285682174155143e-13\n"
     ]
    }
   ],
   "source": [
    "A = np.random.rand(10, 10) * 2 - 1  # Generamos una matriz aleatoria de 10x10 en el intervalo [-1,1)\n",
    "\n",
    "A_inv = inversa(A)       # Calculamos la inversa de A con la funcion creada en el punto anterior\n",
    "\n",
    "B = np.dot(A_inv, A)     # producto escalar de A^(-1) * A\n",
    "\n",
    "I = np.eye(10)           # Generamos una matriz identidad de tamaño 10x10\n",
    "\n",
    "e = np.linalg.norm(B - I,\"fro\")\n",
    "# https://www.youtube.com/watch?v=9IGaV_3HnGg ve este video ,es muy simple\n",
    "\n",
    "print(\"La matriz A es:\", B)\n",
    "print(\"error en norma Frobenius es:\", e)"
   ]
  },
  {
   "cell_type": "markdown",
   "id": "ca54610e",
   "metadata": {},
   "source": [
    "Ejercicio 7"
   ]
  },
  {
   "cell_type": "code",
   "execution_count": 6,
   "id": "d8c84be6",
   "metadata": {},
   "outputs": [],
   "source": [
    "\n",
    "tam_inicial = 10       # tamaño inicial de la matriz de cada iteracion\n",
    "tam_final = 201        # tamaño final de la matriz de cada iteracion\n",
    "cant_iteraciones = 10  # número de veces que se repite el experimento\n",
    "\n",
    "v1 = np.zeros(tam_final)  # creamos un vector para almacenar los errores del primer método\n",
    "v2 = np.zeros(tam_final)  # creamos un vector para almacenar los errores del segundo método\n",
    "\n",
    "for n in range(tam_inicial,tam_final): \n",
    "    for j in range(cant_iteraciones):           \n",
    "        # para el tamaño de cada matriz iteramos 10 veces\n",
    "        \n",
    "        # Generamos una matriz y vector aleatorios\n",
    "        A = np.random.rand(n, n) * 2 - 1  \n",
    "        \n",
    "        # Generamos un vector aleatorio x de tamaño n con valores en el intervalo [-1, 1)\n",
    "        x = np.random.rand(n) * 2 - 1\n",
    "        \n",
    "        b = A @ x\n",
    "\n",
    "        # Resolvemos sistema Ax = b utilizando LU_solve\n",
    "        x1 = resolverLU(A,b)\n",
    "\n",
    "        # Calculamos el logaritmo del error relativo con el primer metodo\n",
    "        err1 = np.log(np.linalg.norm(A @ x1 - b, 2) / np.linalg.norm(b, 2))\n",
    "        \n",
    "        # Resolvemos el sistema Ax = b utilizando la inversa de A\n",
    "        x2 = inversa(A) @ b\n",
    "\n",
    "        # Calculamos el logaritmo del error relativo con el segundo metodo\n",
    "        err2 = np.log(np.linalg.norm(A @ x2 - b, 2) / np.linalg.norm(b, 2))\n",
    "\n",
    "        # Sumamos el error al vector correspondiente\n",
    "        v1[n] += err1\n",
    "        v2[n] += err2\n",
    "\n",
    "# v1 y v2 van a tener 201 elementos. Los primeros 10 elementos de cada vector van a tener ceros."
   ]
  },
  {
   "cell_type": "markdown",
   "id": "65d82a16",
   "metadata": {},
   "source": [
    "Ejercicio 7"
   ]
  },
  {
   "cell_type": "code",
   "execution_count": 10,
   "id": "bbe95354",
   "metadata": {},
   "outputs": [
    {
     "data": {
      "image/png": "[encoded data removed]",
      "text/plain": [
       "<Figure size 640x480 with 1 Axes>"
      ]
     },
     "metadata": {},
     "output_type": "display_data"
    }
   ],
   "source": [
    "import matplotlib.pyplot as plt\n",
    "\n",
    "n = np.arange(10, len(v1))\n",
    "plt.plot(n, v1[10:], label='resolver(LU)*x=b', color='#6baed6')\n",
    "plt.plot(n, v2[10:], label='Inversa(A)*b', color='orange')\n",
    "plt.title(\"Errores relativos||Ax−b||/||b||\" )\n",
    "plt.legend()\n",
    "plt.show()"
   ]
  },
  {
   "cell_type": "code",
   "execution_count": null,
   "id": "70829952",
   "metadata": {},
   "outputs": [],
   "source": []
  },
  {
   "cell_type": "code",
   "execution_count": null,
   "id": "de270cd0",
   "metadata": {},
   "outputs": [],
   "source": []
  }
 ],
 "metadata": {
  "kernelspec": {
   "display_name": "Python 3 (ipykernel)",
   "language": "python",
   "name": "python3"
  },
  "language_info": {
   "codemirror_mode": {
    "name": "ipython",
    "version": 3
   },
   "file_extension": ".py",
   "mimetype": "text/x-python",
   "name": "python",
   "nbconvert_exporter": "python",
   "pygments_lexer": "ipython3",
   "version": "3.11.3"
  }
 },
 "nbformat": 4,
 "nbformat_minor": 5
}
